{
 "cells": [
  {
   "cell_type": "markdown",
   "metadata": {},
   "source": [
    "# HashiCorp Vault Demo for Vault PKI Control Group\n",
    "\n",
    "## Setup of the Demo\n",
    "<img src=\"./images/control-group-overview.png\" alt=\"Control Group Overview\" width=\"500\"/>\n",
    "\n",
    "## Requirements to Run This Demo\n",
    "You will need Visual Studio Code to be installed with the Jupyter plugin.  To run this notebook in VS Code, chose the Jupyter kernel and then Bash.\n",
    "- To run the current cell, use Ctrl + Enter.\n",
    "- To run the current cell and advance to the next, use Shift+Enter."
   ]
  },
  {
   "cell_type": "markdown",
   "metadata": {},
   "source": [
    "# Setup Pre-requisites (One-time)\n",
    "\n",
    "Assumes you have docker installed and brew installed\n",
    "\n",
    "- https://docs.docker.com/desktop/install/mac-install/\n",
    "- https://brew.sh/"
   ]
  },
  {
   "cell_type": "markdown",
   "metadata": {},
   "source": [
    "# Setting up HashiCorp Vault"
   ]
  },
  {
   "cell_type": "code",
   "execution_count": 1,
   "metadata": {
    "vscode": {
     "languageId": "shellscript"
    }
   },
   "outputs": [
    {
     "name": "stdout",
     "output_type": "stream",
     "text": [
      "8d676f535a4c8e096741c1332e5873673d5020ee2c30ddb9aef98a3a7e9778e8\n"
     ]
    }
   ],
   "source": [
    "# Optional.  The following are some sample commands for running Vault Enterprise in docker.\n",
    "# Expose the Vault API to the host machine.\n",
    "export VAULT_PORT=8200\n",
    "export VAULT_ADDR=\"http://127.0.0.1:${VAULT_PORT}\"\n",
    "# Change the path to your license file\n",
    "export VAULT_LICENSE=$(cat $HOME/vault-enterprise/vault_local/data/vault.hclic)\n",
    "docker run -d --rm --name vault-enterprise --cap-add=IPC_LOCK \\\n",
    "-e \"VAULT_DEV_ROOT_TOKEN_ID=root\" \\\n",
    "-e \"VAULT_DEV_LISTEN_ADDRESS=:${VAULT_PORT}\" \\\n",
    "-e \"VAULT_LICENSE=${VAULT_LICENSE}\" \\\n",
    "-e \"VAULT_LOG_LEVEL=DEBUG\" \\\n",
    "-p ${VAULT_PORT}:${VAULT_PORT} hashicorp/vault-enterprise:latest"
   ]
  },
  {
   "cell_type": "markdown",
   "metadata": {},
   "source": [
    "# Vault PKI Secret Engine\n",
    "\n",
    "<img src=\"./images/control-group-1.png\" alt=\"Control Group 1\" width=\"500\"/>\n",
    "\n",
    "## Step 1 - Enable Vault PKI Engine"
   ]
  },
  {
   "cell_type": "code",
   "execution_count": 2,
   "metadata": {
    "vscode": {
     "languageId": "shellscript"
    }
   },
   "outputs": [
    {
     "name": "stdout",
     "output_type": "stream",
     "text": [
      "\u001b[0mSuccess! You are now authenticated. The token information displayed below\n",
      "is already stored in the token helper. You do NOT need to run \"vault login\"\n",
      "again. Future Vault requests will automatically use this token.\n",
      "\u001b[0m\n",
      "\u001b[0mKey                  Value\n",
      "---                  -----\n",
      "token                root\n",
      "token_accessor       QuZc3k811N0audH8clMe2ckq\n",
      "token_duration       ∞\n",
      "token_renewable      false\n",
      "token_policies       [\"root\"]\n",
      "identity_policies    []\n",
      "policies             [\"root\"]\u001b[0m\n",
      "\u001b[0mSuccess! Enabled the pki secrets engine at: pki/\u001b[0m\n"
     ]
    }
   ],
   "source": [
    "# Login to Vault\n",
    "vault login root\n",
    "\n",
    "# Enable PKI secrets engine at the default mount path\n",
    "vault secrets enable pki"
   ]
  },
  {
   "cell_type": "markdown",
   "metadata": {},
   "source": [
    "## Step 2 - Setting up PKI Secret Engien"
   ]
  },
  {
   "cell_type": "code",
   "execution_count": 3,
   "metadata": {
    "vscode": {
     "languageId": "shellscript"
    }
   },
   "outputs": [
    {
     "name": "stdout",
     "output_type": "stream",
     "text": [
      "\u001b[93mWARNING! The following warnings were returned from Vault:\n",
      "\u001b[0m\n",
      "\u001b[93m  * This mount hasn't configured any authority information access (AIA)\n",
      "  fields; this may make it harder for systems to find missing certificates\n",
      "  in the chain or to validate revocation status of certificates. Consider\n",
      "  updating /config/urls or the newly generated issuer with this information.\u001b[0m\n",
      "\u001b[93m\u001b[0m\n",
      "\u001b[0mKey              Value\n",
      "---              -----\n",
      "certificate      -----BEGIN CERTIFICATE-----\n",
      "MIIDMjCCAhqgAwIBAgIUdX5jQJ84gUAg2gaJOjDebeXZhHgwDQYJKoZIhvcNAQEL\n",
      "BQAwFTETMBEGA1UEAxMKbXktb3JnLmNvbTAeFw0yNDA2MTgwMTM4MjNaFw0yNDA3\n",
      "MjAwMTM4NTNaMBUxEzARBgNVBAMTCm15LW9yZy5jb20wggEiMA0GCSqGSIb3DQEB\n",
      "AQUAA4IBDwAwggEKAoIBAQDgBBfEfsPh94PjSrKf2ARiF34BYfDWi4ZG0cQEShu8\n",
      "YfZh5E/wMtLIbya9VJnNTU/dlu2YU4ivzE0fU16ykNj/qsDfyI8EilaXgt6ZH+Ym\n",
      "vxJTxTkFi8xQX1zRhJYq9AfZ7KBFsgLwoclzhi0A6/lj/6P3VNjdVm4ZtgwRMB4g\n",
      "cgRqdFh1b1C6mhAtTESkdCFpISHBWs6m7KZRZGAtdQhgo1wZq5VwP0N0a+Qkw0ev\n",
      "SD3Uw+4xtiIQ3rfpwLLyQbyKMzRLzw8MhvPklcq7J0PLku9xKCSm6TiPaRr7CYqP\n",
      "UKCV9NXSX7is/MMaaLpfU3KGjP/hKHJ+AOvYRtNUIz5lAgMBAAGjejB4MA4GA1Ud\n",
      "DwEB/wQEAwIBBjAPBgNVHRMBAf8EBTADAQH/MB0GA1UdDgQWBBTQ6jaw/LMqYTb0\n",
      "pS5jKVd78WQcZDAfBgNVHSMEGDAWgBTQ6jaw/LMqYTb0pS5jKVd78WQcZDAVBgNV\n",
      "HREEDjAMggpteS1vcmcuY29tMA0GCSqGSIb3DQEBCwUAA4IBAQC9294SA44zASwu\n",
      "qmgChIxrdgPUiZgw5vyFJoAVAzHhVcT4IpmNEJ2pz9wudCSLSteobLHb5RPLzsUT\n",
      "Rk+lktmF0AJnxGc3E1tW2EN4OV6e/uiPV6x88SUUajdFHpoTmwlWopOXf7szKU3L\n",
      "BPLVs9x7a+uIXo/IYkcqTGJ/sGeulz/pS444HA4ATVlnmttKCJw0O5UVwdBVgAtx\n",
      "FFo8/yKy9YqVp+9GLD5a9lzlcm29So0ocmY9DkP42xeinfDki836St5ovEOtKSl4\n",
      "4UxncNFv5qXAKH4e+zQ6FtV3/sgcc4yXeSXK8O4V6wwNClQLNzjbRR9rHXxGBpuj\n",
      "zV3BPMXN\n",
      "-----END CERTIFICATE-----\n",
      "expiration       1721439533\n",
      "issuer_id        8b4ef4d4-f2e8-5e9a-8287-b270f8af3a7f\n",
      "issuer_name      n/a\n",
      "issuing_ca       -----BEGIN CERTIFICATE-----\n",
      "MIIDMjCCAhqgAwIBAgIUdX5jQJ84gUAg2gaJOjDebeXZhHgwDQYJKoZIhvcNAQEL\n",
      "BQAwFTETMBEGA1UEAxMKbXktb3JnLmNvbTAeFw0yNDA2MTgwMTM4MjNaFw0yNDA3\n",
      "MjAwMTM4NTNaMBUxEzARBgNVBAMTCm15LW9yZy5jb20wggEiMA0GCSqGSIb3DQEB\n",
      "AQUAA4IBDwAwggEKAoIBAQDgBBfEfsPh94PjSrKf2ARiF34BYfDWi4ZG0cQEShu8\n",
      "YfZh5E/wMtLIbya9VJnNTU/dlu2YU4ivzE0fU16ykNj/qsDfyI8EilaXgt6ZH+Ym\n",
      "vxJTxTkFi8xQX1zRhJYq9AfZ7KBFsgLwoclzhi0A6/lj/6P3VNjdVm4ZtgwRMB4g\n",
      "cgRqdFh1b1C6mhAtTESkdCFpISHBWs6m7KZRZGAtdQhgo1wZq5VwP0N0a+Qkw0ev\n",
      "SD3Uw+4xtiIQ3rfpwLLyQbyKMzRLzw8MhvPklcq7J0PLku9xKCSm6TiPaRr7CYqP\n",
      "UKCV9NXSX7is/MMaaLpfU3KGjP/hKHJ+AOvYRtNUIz5lAgMBAAGjejB4MA4GA1Ud\n",
      "DwEB/wQEAwIBBjAPBgNVHRMBAf8EBTADAQH/MB0GA1UdDgQWBBTQ6jaw/LMqYTb0\n",
      "pS5jKVd78WQcZDAfBgNVHSMEGDAWgBTQ6jaw/LMqYTb0pS5jKVd78WQcZDAVBgNV\n",
      "HREEDjAMggpteS1vcmcuY29tMA0GCSqGSIb3DQEBCwUAA4IBAQC9294SA44zASwu\n",
      "qmgChIxrdgPUiZgw5vyFJoAVAzHhVcT4IpmNEJ2pz9wudCSLSteobLHb5RPLzsUT\n",
      "Rk+lktmF0AJnxGc3E1tW2EN4OV6e/uiPV6x88SUUajdFHpoTmwlWopOXf7szKU3L\n",
      "BPLVs9x7a+uIXo/IYkcqTGJ/sGeulz/pS444HA4ATVlnmttKCJw0O5UVwdBVgAtx\n",
      "FFo8/yKy9YqVp+9GLD5a9lzlcm29So0ocmY9DkP42xeinfDki836St5ovEOtKSl4\n",
      "4UxncNFv5qXAKH4e+zQ6FtV3/sgcc4yXeSXK8O4V6wwNClQLNzjbRR9rHXxGBpuj\n",
      "zV3BPMXN\n",
      "-----END CERTIFICATE-----\n",
      "key_id           aacb2423-6384-7928-70fc-40594bbdce71\n",
      "key_name         n/a\n",
      "serial_number    75:7e:63:40:9f:38:81:40:20:da:06:89:3a:30:de:6d:e5:d9:84:78\u001b[0m\n"
     ]
    }
   ],
   "source": [
    "# Create the CA, the private key is kept inside Vault.\n",
    "# Alternatively, generate an intermediate CA and sign with your root CA.\n",
    "vault write pki/root/generate/internal \\\n",
    "    common_name=my-org.com \\\n",
    "    ttl=8760h"
   ]
  },
  {
   "cell_type": "code",
   "execution_count": null,
   "metadata": {
    "vscode": {
     "languageId": "shellscript"
    }
   },
   "outputs": [],
   "source": [
    "# configure Vault with the URL's for CRL\n",
    "vault write pki/config/urls \\\n",
    "    issuing_certificates=\"http://127.0.0.1:8200/v1/pki/ca\" \\\n",
    "    crl_distribution_points=\"http://127.0.0.1:8200/v1/pki/crl\""
   ]
  },
  {
   "cell_type": "code",
   "execution_count": null,
   "metadata": {
    "vscode": {
     "languageId": "shellscript"
    }
   },
   "outputs": [],
   "source": [
    "# configure wildcard certificate for *.website1.com\n",
    "vault write pki/roles/website1role \\\n",
    "    allowed_domains=website1.com \\\n",
    "    allow_subdomains=true \\\n",
    "    max_ttl=72h\n",
    "\n",
    "vault write pki/roles/website2role \\\n",
    "    allowed_domains=website2.com \\\n",
    "    allow_subdomains=true \\\n",
    "    max_ttl=72h"
   ]
  },
  {
   "cell_type": "markdown",
   "metadata": {},
   "source": [
    "## Step 3 - Setting up Users - Approver & Requester"
   ]
  },
  {
   "cell_type": "code",
   "execution_count": null,
   "metadata": {
    "vscode": {
     "languageId": "shellscript"
    }
   },
   "outputs": [],
   "source": [
    "## Create the Requester Policy with Control Group. Approver is the Security_Team Group.\n",
    "vault policy write create_pki_cg -<<\"EOF\"\n",
    "path \"pki/issue/website1role\" {\n",
    "  capabilities = [ \"create\", \"update\" ]\n",
    " \n",
    "  control_group = {\n",
    "    factor \"authorizer\" {\n",
    "      identity {\n",
    "        group_names = [ \"security_team\" ]\n",
    "        approvals = 1\n",
    "      }\n",
    "    }\n",
    "  }\n",
    "}\n",
    "\n",
    "path \"pki/issue/website2role\" {\n",
    "  capabilities = [ \"create\", \"update\" ]\n",
    "}\n",
    "EOF"
   ]
  },
  {
   "cell_type": "code",
   "execution_count": null,
   "metadata": {
    "vscode": {
     "languageId": "shellscript"
    }
   },
   "outputs": [],
   "source": [
    "## Create the Approver Policy with Access to Control Group\n",
    "vault policy write security_team -<<EOF\n",
    "# To approve the request\n",
    "path \"sys/control-group/authorize\" {\n",
    "    capabilities = [\"create\", \"update\"]\n",
    "}\n",
    " \n",
    "# To check control group request status\n",
    "path \"sys/control-group/request\" {\n",
    "    capabilities = [\"create\", \"update\"]\n",
    "}\n",
    "EOF"
   ]
  },
  {
   "cell_type": "code",
   "execution_count": 5,
   "metadata": {
    "vscode": {
     "languageId": "shellscript"
    }
   },
   "outputs": [
    {
     "name": "stdout",
     "output_type": "stream",
     "text": [
      "\u001b[0mSuccess! Enabled userpass auth method at: userpass/\u001b[0m\n"
     ]
    }
   ],
   "source": [
    "## Enable Userpass for Demo Login\n",
    "vault auth enable userpass\n",
    "\n",
    "## Keep the Mount Accessor\n",
    "vault auth list -format=json | jq -r '.[\"userpass/\"].accessor'  > tmp/accessor.txt"
   ]
  },
  {
   "cell_type": "code",
   "execution_count": null,
   "metadata": {
    "vscode": {
     "languageId": "shellscript"
    }
   },
   "outputs": [],
   "source": [
    "## Create User - Ron as part of the Security Team (Approver)\n",
    "\n",
    "vault write auth/userpass/users/ron password=\"security\"\n",
    "\n",
    "vault write -format=json identity/entity name=\"Ron Teo\" \\\n",
    "        policies=\"security_team\" \\\n",
    "        metadata=team=\"Controller\"\n",
    "\n",
    "vault read -format=json identity/entity/name/\"Ron Teo\" | jq -r \".data.id\" > tmp/entity_id_ron.txt\n",
    "\n",
    "vault write identity/entity-alias name=\"ron\" \\\n",
    "      canonical_id=$(cat tmp/entity_id_ron.txt) \\\n",
    "      mount_accessor=$(cat tmp/accessor.txt)\n",
    "\n",
    "## Add Ron To Security_Team Group\n",
    "vault write identity/group name=\"security_team\" \\\n",
    "      policies=\"security_team\" \\\n",
    "      member_entity_ids=$(cat tmp/entity_id_ron.txt)"
   ]
  },
  {
   "cell_type": "code",
   "execution_count": null,
   "metadata": {
    "vscode": {
     "languageId": "shellscript"
    }
   },
   "outputs": [],
   "source": [
    "## Create User - Derek as part of the Developer Team (Requester)\n",
    "vault write auth/userpass/users/derek password=\"developer\"\n",
    "\n",
    "vault write -format=json identity/entity name=\"Derek Tan\" \\\n",
    "        policies=\"create_pki_cg\" \\\n",
    "        metadata=team=\"Developer\" \n",
    "\n",
    "vault read -format=json identity/entity/name/\"Derek Tan\" | jq -r \".data.id\" > tmp/entity_id_derek.txt\n",
    "\n",
    "vault write identity/entity-alias name=\"derek\" \\\n",
    "      canonical_id=$(cat tmp/entity_id_derek.txt) \\\n",
    "      mount_accessor=$(cat tmp/accessor.txt)"
   ]
  },
  {
   "cell_type": "markdown",
   "metadata": {},
   "source": [
    "## Step 4 - Requester Request PKI\n",
    "\n",
    "<img src=\"./images/control-group-2.png\" alt=\"Control Group 2\" width=\"500\"/>"
   ]
  },
  {
   "cell_type": "code",
   "execution_count": null,
   "metadata": {
    "vscode": {
     "languageId": "shellscript"
    }
   },
   "outputs": [],
   "source": [
    "## Login Via Derek \n",
    "vault login -method=userpass username=\"derek\" password=\"developer\""
   ]
  },
  {
   "cell_type": "code",
   "execution_count": null,
   "metadata": {
    "vscode": {
     "languageId": "shellscript"
    }
   },
   "outputs": [],
   "source": [
    "# Triggered Control Group due to Policy\n",
    "vault write pki/issue/website1role common_name=www.website1.com ttl=72 -format=json > tmp/wrapped_response.txt\n",
    "\n",
    "## Extract and store the token & accessor\n",
    "cat tmp/wrapped_response.txt\n",
    "cat tmp/wrapped_response.txt | jq -r \".wrap_info.token\" > tmp/wrapped_token.txt\n",
    "cat tmp/wrapped_response.txt | jq -r \".wrap_info.accessor\" > tmp/wrapped_accessor.txt"
   ]
  },
  {
   "cell_type": "code",
   "execution_count": null,
   "metadata": {
    "vscode": {
     "languageId": "shellscript"
    }
   },
   "outputs": [],
   "source": [
    "## Certificate for Website2 can be created without approver.\n",
    "vault write pki/issue/website2role common_name=www.website2.com ttl=72 -format=json"
   ]
  },
  {
   "cell_type": "markdown",
   "metadata": {},
   "source": [
    "## Step 5 - Approver Approve PKI\n",
    "\n",
    "<img src=\"./images/control-group-3.png\" alt=\"Control Group 3\" width=\"500\"/>"
   ]
  },
  {
   "cell_type": "code",
   "execution_count": null,
   "metadata": {
    "vscode": {
     "languageId": "shellscript"
    }
   },
   "outputs": [],
   "source": [
    "# Login Via Security Team\n",
    "vault login -method=userpass username=\"ron\" password=\"security\""
   ]
  },
  {
   "cell_type": "code",
   "execution_count": null,
   "metadata": {
    "vscode": {
     "languageId": "shellscript"
    }
   },
   "outputs": [],
   "source": [
    "# Check the Request Information\n",
    "vault write sys/control-group/request accessor=$(cat tmp/wrapped_accessor.txt)"
   ]
  },
  {
   "cell_type": "code",
   "execution_count": null,
   "metadata": {
    "vscode": {
     "languageId": "shellscript"
    }
   },
   "outputs": [],
   "source": [
    "# Approve the Request\n",
    "vault write sys/control-group/authorize accessor=$(cat tmp/wrapped_accessor.txt)"
   ]
  },
  {
   "cell_type": "markdown",
   "metadata": {},
   "source": [
    "## Step 6 - Requester get PKI Certificate\n",
    "\n",
    "<img src=\"./images/control-group-4.png\" alt=\"Control Group 4\" width=\"500\"/>"
   ]
  },
  {
   "cell_type": "code",
   "execution_count": null,
   "metadata": {
    "vscode": {
     "languageId": "shellscript"
    }
   },
   "outputs": [],
   "source": [
    "# Log back to Derek - Requester\n",
    "vault login -method=userpass username=\"derek\" password=\"developer\""
   ]
  },
  {
   "cell_type": "code",
   "execution_count": null,
   "metadata": {
    "vscode": {
     "languageId": "shellscript"
    }
   },
   "outputs": [],
   "source": [
    "# Unwrapped the original Request Token\n",
    "vault unwrap $(cat tmp/wrapped_token.txt)"
   ]
  },
  {
   "cell_type": "markdown",
   "metadata": {},
   "source": [
    "## Option 1 - Vault Agent with PKI Control Group"
   ]
  },
  {
   "cell_type": "code",
   "execution_count": null,
   "metadata": {
    "vscode": {
     "languageId": "shellscript"
    }
   },
   "outputs": [],
   "source": [
    "vault login root\n",
    "\n",
    "vault auth enable approle\n",
    "vault write auth/approle/role/cert-role token_policies=\"create_pki_cg\" secret_id_ttl=24h token_ttl=5m token_max_ttl=4h\n",
    "vault read -format=json auth/approle/role/cert-role/role-id > tmp/role.json\n",
    "vault write -format=json -f auth/approle/role/cert-role/secret-id > tmp/secretid.json\n",
    "\n",
    "cat tmp/role.json | jq -r .data.role_id > tmp/role.txt\n",
    "cat tmp/secretid.json | jq -r .data.secret_id > tmp/secret.txt\n",
    "\n",
    "export ROLE_ID=\"$(cat tmp/role.txt)\" && echo $ROLE_ID \n",
    "export SECRET_ID=\"$(cat tmp/secret.txt)\" && echo $SECRET_ID"
   ]
  },
  {
   "cell_type": "code",
   "execution_count": null,
   "metadata": {
    "vscode": {
     "languageId": "shellscript"
    }
   },
   "outputs": [],
   "source": [
    "vault write auth/approle/login \\\n",
    "role_id=$ROLE_ID \\\n",
    "secret_id=$SECRET_ID"
   ]
  },
  {
   "cell_type": "code",
   "execution_count": null,
   "metadata": {
    "vscode": {
     "languageId": "shellscript"
    }
   },
   "outputs": [],
   "source": [
    "tee tmp/agent-config.hcl <<EOF\n",
    "pid_file = \"./pidfile\"\n",
    "\n",
    "vault {\n",
    "  address = \"$VAULT_ADDR\"\n",
    "  retry {\n",
    "    num_retries = 5\n",
    "  }\n",
    "}\n",
    "\n",
    "auto_auth {\n",
    "  method {\n",
    "    type = \"approle\"\n",
    "    config = {\n",
    "      role_id_file_path = \"tmp/role.txt\"\n",
    "      secret_id_file_path = \"tmp/secret.txt\"\n",
    "      remove_secret_id_file_after_reading = false\n",
    "    }\n",
    "  }\n",
    "\n",
    "  sink \"file\" {\n",
    "    config = {\n",
    "      path = \"tmp/token\"\n",
    "    }\n",
    "  }\n",
    "}\n",
    "\n",
    "cache {\n",
    "  // An empty cache stanza still enables caching\n",
    "}\n",
    "\n",
    "template {\n",
    "  contents = \"{{ with pkiCert \\\"pki/issue/website1role\\\" \\\"common_name=www.website1.com\\\" \\\"ttl=1m\\\" }}{{ .Cert }}{{ end }}\"\n",
    "  destination = \"tmp/cert.crt\"\n",
    "}\n",
    "\n",
    "EOF"
   ]
  },
  {
   "cell_type": "code",
   "execution_count": null,
   "metadata": {
    "vscode": {
     "languageId": "shellscript"
    }
   },
   "outputs": [],
   "source": [
    "vault agent -log-level debug -config=tmp/agent-config.hcl"
   ]
  },
  {
   "cell_type": "markdown",
   "metadata": {},
   "source": [
    "# Cleanup"
   ]
  },
  {
   "cell_type": "code",
   "execution_count": 4,
   "metadata": {
    "vscode": {
     "languageId": "shellscript"
    }
   },
   "outputs": [
    {
     "name": "stdout",
     "output_type": "stream",
     "text": [
      "\u001b[0mSuccess! You are now authenticated. The token information displayed below\n",
      "is already stored in the token helper. You do NOT need to run \"vault login\"\n",
      "again. Future Vault requests will automatically use this token.\n",
      "\u001b[0m\n",
      "\u001b[0mKey                  Value\n",
      "---                  -----\n",
      "token                root\n",
      "token_accessor       QuZc3k811N0audH8clMe2ckq\n",
      "token_duration       ∞\n",
      "token_renewable      false\n",
      "token_policies       [\"root\"]\n",
      "identity_policies    []\n",
      "policies             [\"root\"]\u001b[0m\n",
      "\u001b[0mSuccess! Disabled the secrets engine (if it existed) at: pki/\u001b[0m\n",
      "\u001b[0mSuccess! Disabled the auth method (if it existed) at: userpass/\u001b[0m\n"
     ]
    }
   ],
   "source": [
    "# Cleanup\n",
    "vault login root\n",
    "\n",
    "# Disable PKI secrets engine\n",
    "vault secrets disable pki\n",
    "\n",
    "# Disable Userpass\n",
    "vault auth disable userpass\n",
    "\n",
    "# Remove all the tmp file\n",
    "rm -rf tmp/*"
   ]
  },
  {
   "cell_type": "code",
   "execution_count": null,
   "metadata": {
    "vscode": {
     "languageId": "shellscript"
    }
   },
   "outputs": [],
   "source": [
    "# Stop Vault container\n",
    "docker stop vault-enterprise"
   ]
  }
 ],
 "metadata": {
  "kernelspec": {
   "display_name": "Bash",
   "language": "bash",
   "name": "bash"
  },
  "language_info": {
   "codemirror_mode": "shell",
   "file_extension": ".sh",
   "mimetype": "text/x-sh",
   "name": "bash"
  },
  "orig_nbformat": 4
 },
 "nbformat": 4,
 "nbformat_minor": 2
}
