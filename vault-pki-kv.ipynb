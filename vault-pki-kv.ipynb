{
 "cells": [
  {
   "cell_type": "markdown",
   "metadata": {},
   "source": [
    "# HashiCorp Vault Demo for Vault PKI with KV\n",
    "\n",
    "## Setup of the Demo\n",
    "<img src=\"./images/pki-workflow.png\" alt=\"PKI & KV Overview\" width=\"700\"/>\n",
    "\n",
    "## Requirements to Run This Demo\n",
    "You will need Visual Studio Code to be installed with the Jupyter plugin.  To run this notebook in VS Code, chose the Jupyter kernel and then Bash.\n",
    "- To run the current cell, use Ctrl + Enter.\n",
    "- To run the current cell and advance to the next, use Shift+Enter."
   ]
  },
  {
   "cell_type": "markdown",
   "metadata": {},
   "source": [
    "# Setup Pre-requisites (One-time)\n",
    "\n",
    "Assumes you have docker installed and brew installed\n",
    "\n",
    "- https://docs.docker.com/desktop/install/mac-install/\n",
    "- https://brew.sh/"
   ]
  },
  {
   "cell_type": "markdown",
   "metadata": {},
   "source": [
    "# Setting up HashiCorp Vault"
   ]
  },
  {
   "cell_type": "code",
   "execution_count": null,
   "metadata": {
    "vscode": {
     "languageId": "shellscript"
    }
   },
   "outputs": [],
   "source": [
    "# Optional.  The following are some sample commands for running Vault Enterprise in docker.\n",
    "# Expose the Vault API to the host machine.\n",
    "export VAULT_PORT=8200\n",
    "export VAULT_ADDR=\"http://127.0.0.1:${VAULT_PORT}\"\n",
    "# Change the path to your license file\n",
    "export VAULT_LICENSE=$(cat $HOME/vault-enterprise/vault_local/data/vault.hclic)\n",
    "docker run -d --rm --name vault-enterprise --cap-add=IPC_LOCK \\\n",
    "-e \"VAULT_DEV_ROOT_TOKEN_ID=root\" \\\n",
    "-e \"VAULT_DEV_LISTEN_ADDRESS=:${VAULT_PORT}\" \\\n",
    "-e \"VAULT_LICENSE=${VAULT_LICENSE}\" \\\n",
    "-e \"VAULT_LOG_LEVEL=DEBUG\" \\\n",
    "-p ${VAULT_PORT}:${VAULT_PORT} hashicorp/vault-enterprise:latest"
   ]
  },
  {
   "cell_type": "markdown",
   "metadata": {},
   "source": [
    "# Vault PKI Secret Engine\n",
    "\n",
    "<img src=\"./images/pki-kv-1.png\" alt=\"PKI KV Workflow 1\" width=\"700\"/>\n",
    "\n",
    "## Step 1 - Enable Vault PKI Engine"
   ]
  },
  {
   "cell_type": "code",
   "execution_count": null,
   "metadata": {
    "vscode": {
     "languageId": "shellscript"
    }
   },
   "outputs": [],
   "source": [
    "# Login to Vault\n",
    "vault login root\n",
    "\n",
    "# Enable PKI & KV secrets engine at the default mount path\n",
    "vault secrets enable pki"
   ]
  },
  {
   "cell_type": "markdown",
   "metadata": {},
   "source": [
    "## Step 2 - Setting up PKI Secret Engien"
   ]
  },
  {
   "cell_type": "code",
   "execution_count": null,
   "metadata": {
    "vscode": {
     "languageId": "shellscript"
    }
   },
   "outputs": [],
   "source": [
    "# Create the CA, the private key is kept inside Vault.\n",
    "# Alternatively, generate an intermediate CA and sign with your root CA.\n",
    "vault write pki/root/generate/internal \\\n",
    "    common_name=my-org.com \\\n",
    "    ttl=8760h\n",
    "\n",
    "# configure Vault with the URL's for CRL\n",
    "vault write pki/config/urls \\\n",
    "    issuing_certificates=\"http://127.0.0.1:8200/v1/pki/ca\" \\\n",
    "    crl_distribution_points=\"http://127.0.0.1:8200/v1/pki/crl\""
   ]
  },
  {
   "cell_type": "code",
   "execution_count": null,
   "metadata": {
    "vscode": {
     "languageId": "shellscript"
    }
   },
   "outputs": [],
   "source": [
    "# Configure Roles for Certificate Issue\n",
    "vault write pki/roles/website1role \\\n",
    "    allowed_domains=website1.com \\\n",
    "    allow_subdomains=true \\\n",
    "    max_ttl=72h\n",
    "\n",
    "vault write pki/roles/website2role \\\n",
    "    allowed_domains=website2.com \\\n",
    "    allow_subdomains=true \\\n",
    "    max_ttl=72h"
   ]
  },
  {
   "cell_type": "markdown",
   "metadata": {},
   "source": [
    "## Step 3 - Setting up Access - Approver (ServiceNow) & Requester (Application)"
   ]
  },
  {
   "cell_type": "code",
   "execution_count": null,
   "metadata": {
    "vscode": {
     "languageId": "shellscript"
    }
   },
   "outputs": [],
   "source": [
    "## Create the Requester Policy with Control Group. Approver is the Security_Team Group.\n",
    "vault policy write create_pki_cg -<<\"EOF\"\n",
    "path \"pki/issue/website1role\" {\n",
    "  capabilities = [ \"create\", \"update\" ]\n",
    " \n",
    "  control_group = {\n",
    "    factor \"authorizer\" {\n",
    "      identity {\n",
    "        group_names = [ \"security_team\" ]\n",
    "        approvals = 1\n",
    "      }\n",
    "    }\n",
    "  }\n",
    "}\n",
    "\n",
    "path \"pki/issue/website2role\" {\n",
    "  capabilities = [ \"create\", \"update\" ]\n",
    " \n",
    "  control_group = {\n",
    "    factor \"authorizer\" {\n",
    "      identity {\n",
    "        group_names = [ \"security_team\" ]\n",
    "        approvals = 1\n",
    "      }\n",
    "    }\n",
    "  }\n",
    "}\n",
    "\n",
    "path \"pki/certs\" {\n",
    "  capabilities = [ \"read\", \"list\" ]\n",
    "}\n",
    "\n",
    "path \"pki/cert/*\" {\n",
    "  capabilities = [ \"read\", \"list\" ]\n",
    "}\n",
    "\n",
    "path \"secret/data/*\" {\n",
    "  capabilities = [ \"read\" ]\n",
    "}\n",
    "EOF"
   ]
  },
  {
   "cell_type": "code",
   "execution_count": null,
   "metadata": {
    "vscode": {
     "languageId": "shellscript"
    }
   },
   "outputs": [],
   "source": [
    "## Create the Approver Policy with Access to Control Group\n",
    "vault policy write security_team -<<EOF\n",
    "# To approve the request\n",
    "path \"sys/control-group/authorize\" {\n",
    "    capabilities = [\"create\", \"update\"]\n",
    "}\n",
    " \n",
    "# To check control group request status\n",
    "path \"sys/control-group/request\" {\n",
    "    capabilities = [\"create\", \"update\"]\n",
    "}\n",
    "\n",
    "path \"pki/issue/website1role\" {\n",
    "  capabilities = [ \"create\", \"update\" ]\n",
    "}\n",
    "\n",
    "path \"pki/issue/website2role\" {\n",
    "  capabilities = [ \"create\", \"update\" ]\n",
    "}\n",
    "\n",
    "path \"secret/data/*\" {\n",
    "  capabilities = [ \"create\", \"update\", \"read\" ]\n",
    "}\n",
    "EOF"
   ]
  },
  {
   "cell_type": "code",
   "execution_count": null,
   "metadata": {
    "vscode": {
     "languageId": "shellscript"
    }
   },
   "outputs": [],
   "source": [
    "## Enable AppRole \n",
    "vault auth enable approle\n",
    "\n",
    "## Keep the Mount Accessor\n",
    "vault auth list -format=json | jq -r '.[\"approle/\"].accessor'  > tmp/approle-accessor.txt"
   ]
  },
  {
   "cell_type": "code",
   "execution_count": null,
   "metadata": {
    "vscode": {
     "languageId": "shellscript"
    }
   },
   "outputs": [],
   "source": [
    "## Create Role for ServiceNow as part of the Security Team (Approver)\n",
    "vault write auth/approle/role/approver-role secret_id_ttl=24h token_ttl=20m token_max_ttl=4h\n",
    "vault read -format=json auth/approle/role/approver-role/role-id | jq -r .data.role_id > tmp/approver-role.txt\n",
    "vault write -format=json -f auth/approle/role/approver-role/secret-id | jq -r .data.secret_id > tmp/approver-secret.txt\n",
    "\n",
    "cat tmp/approver-role.txt\n",
    "cat tmp/approver-secret.txt\n",
    "\n",
    "vault write -format=json identity/entity name=\"Service Now\" \\\n",
    "        metadata=team=\"Controller\"\n",
    "\n",
    "vault read -format=json identity/entity/name/\"Service Now\" | jq -r \".data.id\" > tmp/entity_id_servicenow.txt\n",
    "\n",
    "vault write identity/entity-alias name=$(cat tmp/approver-role.txt) \\\n",
    "      canonical_id=$(cat tmp/entity_id_servicenow.txt) \\\n",
    "      mount_accessor=$(cat tmp/approle-accessor.txt)\n",
    "\n",
    "## Add ServiceNow To Security_Team Group\n",
    "vault write identity/group name=\"security_team\" \\\n",
    "      policies=\"security_team\" \\\n",
    "      member_entity_ids=$(cat tmp/entity_id_servicenow.txt)\n",
    "\n"
   ]
  },
  {
   "cell_type": "code",
   "execution_count": null,
   "metadata": {
    "vscode": {
     "languageId": "shellscript"
    }
   },
   "outputs": [],
   "source": [
    "## Create Application Role as part of the Developer Team (Requester)\n",
    "vault write auth/approle/role/app-role token_policies=\"create_pki_cg\" secret_id_ttl=24h token_ttl=20m token_max_ttl=4h\n",
    "vault read -format=json auth/approle/role/app-role/role-id | jq -r .data.role_id > tmp/app-role.txt\n",
    "vault write -format=json -f auth/approle/role/app-role/secret-id | jq -r .data.secret_id > tmp/app-secret.txt\n",
    "\n",
    "cat tmp/app-role.txt\n",
    "cat tmp/app-secret.txt"
   ]
  },
  {
   "cell_type": "markdown",
   "metadata": {},
   "source": [
    "## Step 4 - Create Certificate & Transfer to KV (ServiceNow)\n",
    "<img src=\"./images/pki-kv-2.png\" alt=\"PKI KV Workflow 1\" width=\"700\"/>"
   ]
  },
  {
   "cell_type": "code",
   "execution_count": null,
   "metadata": {
    "vscode": {
     "languageId": "shellscript"
    }
   },
   "outputs": [],
   "source": [
    "## Simulate ServiceNow Login via AppRole\n",
    " \n",
    "vault write -format=json auth/approle/login \\\n",
    "    role_id=$(cat tmp/approver-role.txt) \\\n",
    "    secret_id=$(cat tmp/approver-secret.txt) | jq -r .auth.client_token > tmp/servicenow-token.txt\n",
    "\n",
    "vault login $(cat tmp/servicenow-token.txt)"
   ]
  },
  {
   "cell_type": "code",
   "execution_count": null,
   "metadata": {
    "vscode": {
     "languageId": "shellscript"
    }
   },
   "outputs": [],
   "source": [
    "# ServiceNow Request for the initial certificate\n",
    "mkdir -p tmp/initial_cert\n",
    "\n",
    "vault write pki/issue/website1role common_name=www.website1.com ttl=72h -format=json > tmp/initial_cert/certificate.txt\n",
    "\n",
    "## Extract the certificate\n",
    "cat tmp/initial_cert/certificate.txt | jq -r \".data.certificate\" > tmp/initial_cert/certificate.pem\n",
    "cat tmp/initial_cert/certificate.txt | jq -r \".data.private_key\" > tmp/initial_cert/private_key.pem\n",
    "cat tmp/initial_cert/certificate.pem \n",
    "cat tmp/initial_cert/private_key.pem"
   ]
  },
  {
   "cell_type": "code",
   "execution_count": null,
   "metadata": {
    "vscode": {
     "languageId": "shellscript"
    }
   },
   "outputs": [],
   "source": [
    "# ServiceNow Loaded the Certificate into KV Store\n",
    "vault kv put secret/application1 \\\n",
    "    cert=@tmp/initial_cert/certificate.pem \\\n",
    "    key=@tmp/initial_cert/private_key.pem"
   ]
  },
  {
   "cell_type": "code",
   "execution_count": null,
   "metadata": {
    "vscode": {
     "languageId": "shellscript"
    }
   },
   "outputs": [],
   "source": [
    "vault kv get secret/application1"
   ]
  },
  {
   "cell_type": "markdown",
   "metadata": {},
   "source": [
    "## Step 5 - Configure App or Deploy Vault Agent\n",
    "\n",
    "<img src=\"./images/pki-kv-3.png\" alt=\"PKI KV 3\" width=\"700\"/>"
   ]
  },
  {
   "cell_type": "code",
   "execution_count": null,
   "metadata": {
    "vscode": {
     "languageId": "shellscript"
    }
   },
   "outputs": [],
   "source": [
    "# Vault Agent Config\n",
    "tee tmp/agent-config.hcl <<EOF\n",
    "pid_file = \"./pidfile\"\n",
    "\n",
    "vault {\n",
    "  address = \"$VAULT_ADDR\"\n",
    "  retry {\n",
    "    num_retries = 5\n",
    "  }\n",
    "}\n",
    "\n",
    "auto_auth {\n",
    "  method {\n",
    "    type = \"approle\"\n",
    "    config = {\n",
    "      role_id_file_path = \"tmp/app-role.txt\"\n",
    "      secret_id_file_path = \"tmp/app-secret.txt\"\n",
    "      remove_secret_id_file_after_reading = false\n",
    "    }\n",
    "  }\n",
    "\n",
    "  sink \"file\" {\n",
    "    config = {\n",
    "      path = \"tmp/token\"\n",
    "    }\n",
    "  }\n",
    "}\n",
    "\n",
    "cache {\n",
    "}\n",
    "\n",
    "template_config {\n",
    "  exit_on_retry_failure = true\n",
    "  static_secret_render_interval = \"30s\"\n",
    "}\n",
    "\n",
    "template {\n",
    "  contents = \"{{with secret \\\"secret/application1\\\" }}{{.Data.data.cert}}{{ end }}\"\n",
    "  destination = \"tmp/agent/cert.crt\"\n",
    "}\n",
    "\n",
    "template {\n",
    "  contents = \"{{with secret \\\"secret/application1\\\"}}{{.Data.data.key}}{{ end }}\"\n",
    "  destination = \"tmp/agent/key.pem\"\n",
    "}\n",
    "\n",
    "EOF"
   ]
  },
  {
   "cell_type": "code",
   "execution_count": null,
   "metadata": {
    "vscode": {
     "languageId": "shellscript"
    }
   },
   "outputs": [],
   "source": [
    "# Run Vault Agent\n",
    "vault agent -log-level debug -config=tmp/agent-config.hcl"
   ]
  },
  {
   "cell_type": "code",
   "execution_count": null,
   "metadata": {
    "vscode": {
     "languageId": "shellscript"
    }
   },
   "outputs": [],
   "source": [
    "# Check Cert Rendered by Vault Agent\n",
    "openssl x509 -in tmp/agent/cert.crt -text -noout | grep Subject: "
   ]
  },
  {
   "cell_type": "markdown",
   "metadata": {},
   "source": [
    "## Step 6 - Cron Job - Rotation (Simulate Approval with Control Group instead of ServiceNow)\n",
    "\n",
    "<img src=\"./images/pki-kv-4.png\" alt=\"PKI KV 4\" width=\"700\"/>"
   ]
  },
  {
   "cell_type": "code",
   "execution_count": null,
   "metadata": {
    "vscode": {
     "languageId": "shellscript"
    }
   },
   "outputs": [],
   "source": [
    "## Simulate App Login via AppRole\n",
    " \n",
    "vault write -format=json auth/approle/login \\\n",
    "    role_id=$(cat tmp/app-role.txt) \\\n",
    "    secret_id=$(cat tmp/app-secret.txt) | jq -r .auth.client_token > tmp/app-token.txt\n",
    "\n",
    "vault login $(cat tmp/app-token.txt)"
   ]
  },
  {
   "cell_type": "code",
   "execution_count": null,
   "metadata": {
    "vscode": {
     "languageId": "shellscript"
    }
   },
   "outputs": [],
   "source": [
    "# Example Script to Capture Expiring Certificate\n",
    "./get_vault_pki_certs.sh -a $VAULT_ADDR -t $(cat tmp/app-token.txt) -d 90"
   ]
  },
  {
   "cell_type": "code",
   "execution_count": null,
   "metadata": {
    "vscode": {
     "languageId": "shellscript"
    }
   },
   "outputs": [],
   "source": [
    "# Submit Cert Rotation Request with Control Group\n",
    "\n",
    "mkdir -p tmp/controlgroup\n",
    "\n",
    "vault write pki/issue/website2role common_name=www.website2.com ttl=72h -format=json > tmp/controlgroup/wrapped_response.txt\n",
    "\n",
    "## Extract and store the token & accessor\n",
    "cat tmp/controlgroup/wrapped_response.txt\n",
    "cat tmp/controlgroup/wrapped_response.txt | jq -r \".wrap_info.token\" > tmp/controlgroup/wrapped_token.txt\n",
    "cat tmp/controlgroup/wrapped_response.txt | jq -r \".wrap_info.accessor\" > tmp/controlgroup/wrapped_accessor.txt\n"
   ]
  },
  {
   "cell_type": "markdown",
   "metadata": {},
   "source": [
    "## Step 6 - ServiceNow to Approve Control Group and Update KV\n",
    "\n",
    "<img src=\"./images/pki-kv-5.png\" alt=\"PKI KV 4\" width=\"700\"/>"
   ]
  },
  {
   "cell_type": "code",
   "execution_count": null,
   "metadata": {
    "vscode": {
     "languageId": "shellscript"
    }
   },
   "outputs": [],
   "source": [
    "## Simulate ServiceNow Login via AppRole To Approve\n",
    " \n",
    "vault write -format=json auth/approle/login \\\n",
    "    role_id=$(cat tmp/approver-role.txt) \\\n",
    "    secret_id=$(cat tmp/approver-secret.txt) | jq -r .auth.client_token > tmp/servicenow-token.txt\n",
    "\n",
    "vault login $(cat tmp/servicenow-token.txt)"
   ]
  },
  {
   "cell_type": "code",
   "execution_count": null,
   "metadata": {
    "vscode": {
     "languageId": "shellscript"
    }
   },
   "outputs": [],
   "source": [
    "# Approve the Request\n",
    "vault write sys/control-group/authorize accessor=$(cat tmp/controlgroup/wrapped_accessor.txt)"
   ]
  },
  {
   "cell_type": "code",
   "execution_count": null,
   "metadata": {
    "vscode": {
     "languageId": "shellscript"
    }
   },
   "outputs": [],
   "source": [
    "# ServiceNow Request for the rotated certificate\n",
    "mkdir -p tmp/rotated_cert\n",
    "\n",
    "vault unwrap -format=json $(cat tmp/controlgroup/wrapped_token.txt) > tmp/rotated_cert/certificate.txt\n",
    "\n",
    "## Extract the certificate\n",
    "cat tmp/rotated_cert/certificate.txt | jq -r \".data.certificate\" > tmp/rotated_cert/certificate.pem\n",
    "cat tmp/rotated_cert/certificate.txt | jq -r \".data.private_key\" > tmp/rotated_cert/private_key.pem\n",
    "cat tmp/rotated_cert/certificate.pem \n",
    "cat tmp/rotated_cert/private_key.pem"
   ]
  },
  {
   "cell_type": "code",
   "execution_count": null,
   "metadata": {
    "vscode": {
     "languageId": "shellscript"
    }
   },
   "outputs": [],
   "source": [
    "# ServiceNow Loaded the Certificate into KV Store\n",
    "vault kv put secret/application1 \\\n",
    "    cert=@tmp/rotated_cert/certificate.pem \\\n",
    "    key=@tmp/rotated_cert/private_key.pem"
   ]
  },
  {
   "cell_type": "code",
   "execution_count": null,
   "metadata": {
    "vscode": {
     "languageId": "shellscript"
    }
   },
   "outputs": [],
   "source": [
    "openssl x509 -in tmp/agent/cert.crt -text -noout | grep Subject:"
   ]
  },
  {
   "cell_type": "markdown",
   "metadata": {},
   "source": [
    "# Recap\n",
    "<img src=\"./images/pki-workflow.png\" alt=\"PKI & KV Overview\" width=\"700\"/>"
   ]
  },
  {
   "cell_type": "markdown",
   "metadata": {},
   "source": [
    "# Cleanup"
   ]
  },
  {
   "cell_type": "code",
   "execution_count": 1,
   "metadata": {
    "vscode": {
     "languageId": "shellscript"
    }
   },
   "outputs": [
    {
     "name": "stdout",
     "output_type": "stream",
     "text": [
      "\u001b[93mWARNING! VAULT_ADDR and -address unset. Defaulting to https://127.0.0.1:8200.\u001b[0m\n",
      "\u001b[91mError authenticating: error looking up token: Get \"https://127.0.0.1:8200/v1/auth/token/lookup-self\": http: server gave HTTP response to HTTPS client\u001b[0m\n",
      "\u001b[93mWARNING! VAULT_ADDR and -address unset. Defaulting to https://127.0.0.1:8200.\u001b[0m\n",
      "\u001b[91mError disabling secrets engine at pki/: Delete \"https://127.0.0.1:8200/v1/sys/mounts/pki\": http: server gave HTTP response to HTTPS client\u001b[0m\n",
      "\u001b[93mWARNING! VAULT_ADDR and -address unset. Defaulting to https://127.0.0.1:8200.\u001b[0m\n",
      "\u001b[91mError disabling auth method at approle/: Delete \"https://127.0.0.1:8200/v1/sys/auth/approle\": http: server gave HTTP response to HTTPS client\u001b[0m\n"
     ]
    }
   ],
   "source": [
    "# Cleanup\n",
    "vault login root\n",
    "\n",
    "# Disable PKI secrets engine\n",
    "vault secrets disable pki\n",
    "\n",
    "# Disable Userpass\n",
    "vault auth disable approle\n",
    "\n",
    "# Remove all the tmp file\n",
    "rm -rf tmp/*"
   ]
  },
  {
   "cell_type": "code",
   "execution_count": 2,
   "metadata": {
    "vscode": {
     "languageId": "shellscript"
    }
   },
   "outputs": [
    {
     "name": "stdout",
     "output_type": "stream",
     "text": [
      "vault-enterprise\n"
     ]
    }
   ],
   "source": [
    "# Stop Vault container\n",
    "docker stop vault-enterprise"
   ]
  }
 ],
 "metadata": {
  "kernelspec": {
   "display_name": "Bash",
   "language": "bash",
   "name": "bash"
  },
  "language_info": {
   "codemirror_mode": "shell",
   "file_extension": ".sh",
   "mimetype": "text/x-sh",
   "name": "bash"
  },
  "orig_nbformat": 4
 },
 "nbformat": 4,
 "nbformat_minor": 2
}
